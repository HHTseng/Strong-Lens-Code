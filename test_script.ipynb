{
 "cells": [
  {
   "cell_type": "code",
   "execution_count": 1,
   "metadata": {},
   "outputs": [
    {
     "name": "stderr",
     "output_type": "stream",
     "text": [
      "Using TensorFlow backend.\n"
     ]
    },
    {
     "name": "stdout",
     "output_type": "stream",
     "text": [
      "14000\n"
     ]
    },
    {
     "ename": "TypeError",
     "evalue": "'int' object is not subscriptable",
     "output_type": "error",
     "traceback": [
      "\u001b[0;31m---------------------------------------------------------------------------\u001b[0m",
      "\u001b[0;31mTypeError\u001b[0m                                 Traceback (most recent call last)",
      "\u001b[0;32m<ipython-input-1-f3ebbaf23e0c>\u001b[0m in \u001b[0;36m<module>\u001b[0;34m()\u001b[0m\n\u001b[0;32m----> 1\u001b[0;31m \u001b[0;32mimport\u001b[0m \u001b[0mtest_image_flip\u001b[0m\u001b[0;34m\u001b[0m\u001b[0m\n\u001b[0m",
      "\u001b[0;32m~/stronglenses/sl_new/Strong-Lens-Code/test_image_flip.py\u001b[0m in \u001b[0;36m<module>\u001b[0;34m()\u001b[0m\n\u001b[1;32m     23\u001b[0m \u001b[0;34m\u001b[0m\u001b[0m\n\u001b[1;32m     24\u001b[0m \u001b[0;34m\u001b[0m\u001b[0m\n\u001b[0;32m---> 25\u001b[0;31m \u001b[0mutils\u001b[0m\u001b[0;34m.\u001b[0m\u001b[0mepoch_curve_generator\u001b[0m\u001b[0;34m(\u001b[0m\u001b[0mreg_convnet\u001b[0m\u001b[0;34m,\u001b[0m \u001b[0mdata\u001b[0m\u001b[0;34m,\u001b[0m \u001b[0mlabels\u001b[0m\u001b[0;34m,\u001b[0m \u001b[0mgenerator\u001b[0m\u001b[0;34m,\u001b[0m \u001b[0;36m32\u001b[0m\u001b[0;34m,\u001b[0m \u001b[0;36m0.3\u001b[0m\u001b[0;34m,\u001b[0m \u001b[0;36m30\u001b[0m\u001b[0;34m,\u001b[0m \u001b[0mauroc\u001b[0m\u001b[0;34m)\u001b[0m\u001b[0;34m\u001b[0m\u001b[0m\n\u001b[0m",
      "\u001b[0;32m~/stronglenses/sl_new/Strong-Lens-Code/utils.py\u001b[0m in \u001b[0;36mepoch_curve_generator\u001b[0;34m(model_function, data, labels, generator, batch_size, validation_fraction, epochs_to_try, evaluation_functions)\u001b[0m\n\u001b[1;32m    345\u001b[0m         \u001b[0;31m# model = train(model_function(), epochs_to_try[0], Xtrain, Ytrain)\u001b[0m\u001b[0;34m\u001b[0m\u001b[0;34m\u001b[0m\u001b[0m\n\u001b[1;32m    346\u001b[0m \ttrained_model.fit_generator(generator.flow(Xtrain, Ytrain),\n\u001b[0;32m--> 347\u001b[0;31m \t\t\t\tlen(Xtrain)//batch_size, epochs = epochs_to_try[0])\n\u001b[0m\u001b[1;32m    348\u001b[0m \u001b[0;34m\u001b[0m\u001b[0m\n\u001b[1;32m    349\u001b[0m         \u001b[0mtest_results\u001b[0m \u001b[0;34m=\u001b[0m \u001b[0;34m[\u001b[0m\u001b[0;34m[\u001b[0m\u001b[0;34m]\u001b[0m\u001b[0;34m]\u001b[0m \u001b[0;34m*\u001b[0m \u001b[0mlen\u001b[0m\u001b[0;34m(\u001b[0m\u001b[0mevaluation_functions\u001b[0m\u001b[0;34m)\u001b[0m\u001b[0;34m\u001b[0m\u001b[0m\n",
      "\u001b[0;31mTypeError\u001b[0m: 'int' object is not subscriptable"
     ]
    }
   ],
   "source": [
    "import test_image_flip"
   ]
  },
  {
   "cell_type": "code",
   "execution_count": null,
   "metadata": {},
   "outputs": [
    {
     "name": "stdout",
     "output_type": "stream",
     "text": [
      "reg_1 = 0.3\n",
      "reg_2 = 0.2\n"
     ]
    },
    {
     "name": "stderr",
     "output_type": "stream",
     "text": [
      "Using TensorFlow backend.\n"
     ]
    },
    {
     "name": "stdout",
     "output_type": "stream",
     "text": [
      "Epoch 1/1\n",
      "14000/14000 [==============================] - 274s - loss: 39.5660 - acc: 0.7051   \n",
      "Epoch number  2\n",
      "6000/6000 [==============================] - 41s    \n",
      "Epoch 1/1\n",
      "14000/14000 [==============================] - 288s - loss: 9.0426 - acc: 0.7772   \n",
      "Epoch number  3\n",
      "6000/6000 [==============================] - 41s    \n",
      "Epoch 1/1\n",
      "14000/14000 [==============================] - 302s - loss: 0.7754 - acc: 0.8335   \n",
      "Epoch number  8\n",
      "6000/6000 [==============================] - 41s    \n",
      "Epoch 1/1\n",
      "14000/14000 [==============================] - 302s - loss: 0.6594 - acc: 0.8466   \n",
      "Epoch number  9\n",
      "6000/6000 [==============================] - 41s    \n",
      "Epoch 1/1\n",
      " 8992/14000 [==================>...........] - ETA: 109s - loss: 0.5995 - acc: 0.8518"
     ]
    }
   ],
   "source": [
    "print('reg_1 = 0.3')\n",
    "print('reg_2 = 0.2')\n",
    "import reg_script"
   ]
  },
  {
   "cell_type": "code",
   "execution_count": null,
   "metadata": {},
   "outputs": [
    {
     "name": "stderr",
     "output_type": "stream",
     "text": [
      "Using TensorFlow backend.\n"
     ]
    },
    {
     "name": "stdout",
     "output_type": "stream",
     "text": [
      "Epoch 1/2\n",
      "700/700 [==============================] - 5s - loss: 87.0991 - acc: 0.6171     \n",
      "Epoch 2/2\n",
      "700/700 [==============================] - 4s - loss: 80.9190 - acc: 0.6729     \n",
      "700/700 [==============================] - 1s     \n",
      "[[0.76341210316288566], [0.0]]\n",
      "5984/6000 [============================>.] - ETA: 0s[[0.68090971163458569], [0.0]]\n",
      "Epoch 1/2\n",
      "1400/1400 [==============================] - 12s - loss: 82.1247 - acc: 0.5707    \n",
      "Epoch 2/2\n",
      "1248/1400 [=========================>....] - ETA: 1s - loss: 69.9644 - acc: 0.6683"
     ]
    }
   ],
   "source": [
    "import reg_script"
   ]
  },
  {
   "cell_type": "code",
   "execution_count": null,
   "metadata": {
    "collapsed": true
   },
   "outputs": [],
   "source": []
  },
  {
   "cell_type": "code",
   "execution_count": null,
   "metadata": {
    "collapsed": true
   },
   "outputs": [],
   "source": []
  },
  {
   "cell_type": "code",
   "execution_count": null,
   "metadata": {
    "collapsed": true
   },
   "outputs": [],
   "source": []
  }
 ],
 "metadata": {
  "kernelspec": {
   "display_name": "Python 3",
   "language": "python",
   "name": "python3"
  },
  "language_info": {
   "codemirror_mode": {
    "name": "ipython",
    "version": 3
   },
   "file_extension": ".py",
   "mimetype": "text/x-python",
   "name": "python",
   "nbconvert_exporter": "python",
   "pygments_lexer": "ipython3",
   "version": "3.5.4"
  }
 },
 "nbformat": 4,
 "nbformat_minor": 2
}
