{
 "cells": [
  {
   "cell_type": "code",
   "execution_count": null,
   "metadata": {},
   "outputs": [
    {
     "name": "stderr",
     "output_type": "stream",
     "text": [
      "Using TensorFlow backend.\n"
     ]
    },
    {
     "name": "stdout",
     "output_type": "stream",
     "text": [
      "Epoch 1/1\n",
      "14000/14000 [==============================] - 97s - loss: 36.0380 - acc: 0.6969    \n",
      "5984/6000 [============================>.] - ETA: 0sEpoch 1/1\n",
      "14000/14000 [==============================] - 96s - loss: 8.5883 - acc: 0.7770    \n",
      "5984/6000 [============================>.] - ETA: 0sEpoch 1/1\n",
      "14000/14000 [==============================] - 100s - loss: 3.4119 - acc: 0.7933   \n",
      "5984/6000 [============================>.] - ETA: 0sEpoch 1/1\n",
      "14000/14000 [==============================] - 104s - loss: 1.8154 - acc: 0.8134   \n",
      "5984/6000 [============================>.] - ETA: 0sEpoch 1/1\n",
      "14000/14000 [==============================] - 107s - loss: 1.1574 - acc: 0.8280   \n",
      "6000/6000 [==============================] - 16s    \n",
      "Epoch 1/1\n",
      "14000/14000 [==============================] - 114s - loss: 0.8458 - acc: 0.8359   \n",
      "5984/6000 [============================>.] - ETA: 0sEpoch 1/1\n",
      "14000/14000 [==============================] - 112s - loss: 0.6782 - acc: 0.8473   \n",
      "5984/6000 [============================>.] - ETA: 0sEpoch 1/1\n",
      "14000/14000 [==============================] - 116s - loss: 0.5843 - acc: 0.8518   \n",
      "5984/6000 [============================>.] - ETA: 0sEpoch 1/1\n",
      "14000/14000 [==============================] - 125s - loss: 0.5203 - acc: 0.8574   \n",
      "6000/6000 [==============================] - 16s    \n",
      "Epoch 1/1\n",
      "14000/14000 [==============================] - 126s - loss: 0.4741 - acc: 0.8665   \n",
      "5984/6000 [============================>.] - ETA: 0sEpoch 1/1\n",
      "14000/14000 [==============================] - 127s - loss: 0.4341 - acc: 0.8701   \n",
      "5984/6000 [============================>.] - ETA: 0sEpoch 1/1\n",
      "14000/14000 [==============================] - 131s - loss: 0.4102 - acc: 0.8728   \n",
      "5984/6000 [============================>.] - ETA: 0sEpoch 1/1\n",
      "14000/14000 [==============================] - 137s - loss: 0.3871 - acc: 0.8796   \n",
      "5984/6000 [============================>.] - ETA: 0sEpoch 1/1\n",
      "14000/14000 [==============================] - 141s - loss: 0.3653 - acc: 0.8842   \n",
      "5984/6000 [============================>.] - ETA: 0sEpoch 1/1\n",
      "14000/14000 [==============================] - 145s - loss: 0.3499 - acc: 0.8878   \n",
      "5984/6000 [============================>.] - ETA: 0sEpoch 1/1\n",
      "14000/14000 [==============================] - 149s - loss: 0.3362 - acc: 0.8895   \n",
      "5984/6000 [============================>.] - ETA: 0sEpoch 1/1\n",
      "14000/14000 [==============================] - 158s - loss: 0.3262 - acc: 0.8935   \n",
      "5984/6000 [============================>.] - ETA: 0sEpoch 1/1\n",
      "14000/14000 [==============================] - 165s - loss: 0.3155 - acc: 0.8968   \n",
      "5984/6000 [============================>.] - ETA: 0sEpoch 1/1\n",
      "14000/14000 [==============================] - 173s - loss: 0.3039 - acc: 0.9029   \n",
      "5984/6000 [============================>.] - ETA: 0sEpoch 1/1\n",
      "14000/14000 [==============================] - 179s - loss: 0.2988 - acc: 0.9044   \n",
      "6000/6000 [==============================] - 17s    \n",
      "Epoch 1/1\n",
      "14000/14000 [==============================] - 184s - loss: 0.2889 - acc: 0.9056   \n",
      "5984/6000 [============================>.] - ETA: 0sEpoch 1/1\n",
      "14000/14000 [==============================] - 175s - loss: 0.2792 - acc: 0.9095   \n",
      "6000/6000 [==============================] - 16s    \n",
      "Epoch 1/1\n",
      "14000/14000 [==============================] - 176s - loss: 0.2744 - acc: 0.9124   \n",
      "6000/6000 [==============================] - 17s    \n",
      "Epoch 1/1\n",
      "14000/14000 [==============================] - 178s - loss: 0.2636 - acc: 0.9153   \n",
      "5984/6000 [============================>.] - ETA: 0sEpoch 1/1\n",
      "14000/14000 [==============================] - 179s - loss: 0.2575 - acc: 0.9175   \n",
      "5984/6000 [============================>.] - ETA: 0sEpoch 1/1\n",
      "14000/14000 [==============================] - 178s - loss: 0.2609 - acc: 0.9170   \n",
      "5984/6000 [============================>.] - ETA: 0sEpoch 1/1\n",
      "14000/14000 [==============================] - 172s - loss: 0.2474 - acc: 0.9223   \n",
      "5984/6000 [============================>.] - ETA: 0sEpoch 1/1\n",
      "14000/14000 [==============================] - 182s - loss: 0.2445 - acc: 0.9249   \n",
      "6000/6000 [==============================] - 17s    \n",
      "Epoch 1/1\n",
      "14000/14000 [==============================] - 177s - loss: 0.2396 - acc: 0.9256   \n",
      "5984/6000 [============================>.] - ETA: 0sEpoch 1/1\n",
      "14000/14000 [==============================] - 175s - loss: 0.2329 - acc: 0.9286   \n",
      "5984/6000 [============================>.] - ETA: 0sEpoch 1/1\n",
      "14000/14000 [==============================] - 179s - loss: 0.2316 - acc: 0.9319   \n",
      "14000/14000 [==============================] - 171s - loss: 0.2276 - acc: 0.9307   \n",
      "6000/6000 [==============================] - 16s    \n",
      "Epoch 1/1\n",
      "14000/14000 [==============================] - 179s - loss: 0.2213 - acc: 0.9333   \n",
      "5984/6000 [============================>.] - ETA: 0sEpoch 1/1\n",
      "14000/14000 [==============================] - 176s - loss: 0.2168 - acc: 0.9354   \n",
      "5984/6000 [============================>.] - ETA: 0sEpoch 1/1\n",
      "14000/14000 [==============================] - 178s - loss: 0.2142 - acc: 0.9367   \n",
      "6000/6000 [==============================] - 16s    \n",
      "Epoch 1/1\n",
      "14000/14000 [==============================] - 175s - loss: 0.2096 - acc: 0.9391   \n",
      "5984/6000 [============================>.] - ETA: 0sEpoch 1/1\n",
      "14000/14000 [==============================] - 173s - loss: 0.2046 - acc: 0.9393   \n",
      "5984/6000 [============================>.] - ETA: 0sEpoch 1/1\n",
      "14000/14000 [==============================] - 181s - loss: 0.2033 - acc: 0.9417   \n",
      "5984/6000 [============================>.] - ETA: 0sEpoch 1/1\n",
      "14000/14000 [==============================] - 178s - loss: 0.1954 - acc: 0.9454   \n",
      "6000/6000 [==============================] - 16s    \n",
      "[[0.82300209347374764, 0.86024594697112278, 0.87436227230215524, 0.8862710397007173, 0.88984482813536048, 0.90918458763200027, 0.90947217243506029, 0.92041267203113275, 0.9238809470724666, 0.92299966122209054, 0.92784076859152353, 0.9297180035846756, 0.93880698056225564, 0.93775346813026439, 0.94101517551301705, 0.94147238091377383, 0.94625476677891696, 0.9425048138314045, 0.94711879522467934, 0.94654964833694788, 0.94569187425258949, 0.94593961645707803, 0.95037245301266216, 0.95071609542534008, 0.95059100819726727, 0.95111151005185912, 0.94129702715145691, 0.95164834273900478, 0.95191751192237639, 0.94657339174598032, 0.94855034905706814, 0.94669558343636617, 0.95113612212219745, 0.94697980941570958, 0.9499867673927711, 0.95382682947309905, 0.94743081836581644, 0.94906413326422656, 0.94888101946090886]]\n",
      "[1, 2, 3, 4, 5, 6, 7, 8, 9, 10, 11, 12, 13, 14, 15, 16, 17, 18, 19, 20, 21, 22, 23, 24, 25, 26, 27, 28, 29, 30, 31, 32, 33, 34, 35, 36, 37, 38, 39]\n"
     ]
    },
    {
     "data": {
      "image/png": "[encoded data removed]",
      "text/plain": [
       "<matplotlib.figure.Figure at 0x2ad5c2249d30>"
      ]
     },
     "metadata": {},
     "output_type": "display_data"
    }
   ],
   "source": [
    "import reg_script"
   ]
  },
  {
   "cell_type": "code",
   "execution_count": null,
   "metadata": {},
   "outputs": [
    {
     "name": "stdout",
     "output_type": "stream",
     "text": [
      "reg_1 = 0.3\n",
      "reg_2 = 0.2\n"
     ]
    },
    {
     "name": "stderr",
     "output_type": "stream",
     "text": [
      "Using TensorFlow backend.\n"
     ]
    },
    {
     "name": "stdout",
     "output_type": "stream",
     "text": [
      "Epoch 1/1\n",
      "14000/14000 [==============================] - 274s - loss: 39.5660 - acc: 0.7051   \n",
      "Epoch number  2\n",
      "6000/6000 [==============================] - 41s    \n",
      "Epoch 1/1\n",
      "14000/14000 [==============================] - 288s - loss: 9.0426 - acc: 0.7772   \n",
      "Epoch number  3\n",
      "6000/6000 [==============================] - 41s    \n",
      "Epoch 1/1\n",
      "14000/14000 [==============================] - 302s - loss: 0.7754 - acc: 0.8335   \n",
      "Epoch number  8\n",
      "6000/6000 [==============================] - 41s    \n",
      "Epoch 1/1\n",
      "14000/14000 [==============================] - 302s - loss: 0.6594 - acc: 0.8466   \n",
      "Epoch number  9\n",
      "6000/6000 [==============================] - 41s    \n",
      "Epoch 1/1\n",
      " 8992/14000 [==================>...........] - ETA: 109s - loss: 0.5995 - acc: 0.8518"
     ]
    }
   ],
   "source": [
    "print('reg_1 = 0.3')\n",
    "print('reg_2 = 0.2')\n",
    "import reg_script"
   ]
  },
  {
   "cell_type": "code",
   "execution_count": 1,
   "metadata": {},
   "outputs": [
    {
     "name": "stderr",
     "output_type": "stream",
     "text": [
      "Using TensorFlow backend.\n"
     ]
    },
    {
     "name": "stdout",
     "output_type": "stream",
     "text": [
      "Epoch 1/2\n",
      "700/700 [==============================] - 5s - loss: 86.9559 - acc: 0.5757     \n",
      "Epoch 2/2\n",
      "700/700 [==============================] - 5s - loss: 81.0283 - acc: 0.6414     \n",
      "700/700 [==============================] - 1s     \n"
     ]
    },
    {
     "ename": "TypeError",
     "evalue": "'list' object is not callable",
     "output_type": "error",
     "traceback": [
      "\u001b[0;31m---------------------------------------------------------------------------\u001b[0m",
      "\u001b[0;31mTypeError\u001b[0m                                 Traceback (most recent call last)",
      "\u001b[0;32m<ipython-input-1-e443f7523c67>\u001b[0m in \u001b[0;36m<module>\u001b[0;34m()\u001b[0m\n\u001b[0;32m----> 1\u001b[0;31m \u001b[0;32mimport\u001b[0m \u001b[0mreg_script\u001b[0m\u001b[0;34m\u001b[0m\u001b[0m\n\u001b[0m",
      "\u001b[0;32m~/stronglenses/sl_new/Strong-Lens-Code/reg_script.py\u001b[0m in \u001b[0;36m<module>\u001b[0;34m()\u001b[0m\n\u001b[1;32m     12\u001b[0m \u001b[0;31m#utils.epoch_curve(model_function, data, labels, .3, range(1, 30), [auroc, accuracy])\u001b[0m\u001b[0;34m\u001b[0m\u001b[0;34m\u001b[0m\u001b[0m\n\u001b[1;32m     13\u001b[0m \u001b[0;34m\u001b[0m\u001b[0m\n\u001b[0;32m---> 14\u001b[0;31m \u001b[0mutils\u001b[0m\u001b[0;34m.\u001b[0m\u001b[0mlearning_curve\u001b[0m\u001b[0;34m(\u001b[0m\u001b[0mmodel_function\u001b[0m\u001b[0;34m,\u001b[0m \u001b[0mdata\u001b[0m\u001b[0;34m,\u001b[0m \u001b[0mlabels\u001b[0m\u001b[0;34m,\u001b[0m \u001b[0mfraction_test\u001b[0m\u001b[0;34m=\u001b[0m\u001b[0;36m0.3\u001b[0m\u001b[0;34m,\u001b[0m \u001b[0mnum_iterations\u001b[0m\u001b[0;34m=\u001b[0m\u001b[0;36m20\u001b[0m\u001b[0;34m,\u001b[0m \u001b[0mnum_epochs\u001b[0m\u001b[0;34m=\u001b[0m\u001b[0;36m2\u001b[0m\u001b[0;34m,\u001b[0m \u001b[0mevaluation_functions\u001b[0m\u001b[0;34m=\u001b[0m\u001b[0;34m[\u001b[0m\u001b[0mauroc\u001b[0m\u001b[0;34m,\u001b[0m\u001b[0maccuracy\u001b[0m\u001b[0;34m]\u001b[0m\u001b[0;34m)\u001b[0m\u001b[0;34m\u001b[0m\u001b[0m\n\u001b[0m\u001b[1;32m     15\u001b[0m \u001b[0;34m\u001b[0m\u001b[0m\n\u001b[1;32m     16\u001b[0m \u001b[0;34m\u001b[0m\u001b[0m\n",
      "\u001b[0;32m~/stronglenses/sl_new/Strong-Lens-Code/utils.py\u001b[0m in \u001b[0;36mlearning_curve\u001b[0;34m(model_function, data, labels, fraction_test, num_iterations, num_epochs, evaluation_functions)\u001b[0m\n\u001b[1;32m    156\u001b[0m                 \u001b[0my_prob\u001b[0m \u001b[0;34m=\u001b[0m \u001b[0mtrained_model\u001b[0m\u001b[0;34m.\u001b[0m\u001b[0mpredict\u001b[0m\u001b[0;34m(\u001b[0m\u001b[0mcurrentX\u001b[0m\u001b[0;34m)\u001b[0m\u001b[0;34m\u001b[0m\u001b[0m\n\u001b[1;32m    157\u001b[0m \t\ttrain_results = [r + [f(currentX, currentY, y_pred, y_prob)]\n\u001b[0;32m--> 158\u001b[0;31m \t\t\t\t\t\t\tfor r, f in zip(train_results, evaluation_functions)]\n\u001b[0m\u001b[1;32m    159\u001b[0m                 \u001b[0mprint\u001b[0m\u001b[0;34m(\u001b[0m\u001b[0mtrain_results\u001b[0m\u001b[0;34m)\u001b[0m\u001b[0;34m\u001b[0m\u001b[0m\n\u001b[1;32m    160\u001b[0m                 \u001b[0;31m#evaluate on test data\u001b[0m\u001b[0;34m\u001b[0m\u001b[0;34m\u001b[0m\u001b[0m\n",
      "\u001b[0;32m~/stronglenses/sl_new/Strong-Lens-Code/utils.py\u001b[0m in \u001b[0;36m<listcomp>\u001b[0;34m(.0)\u001b[0m\n\u001b[1;32m    156\u001b[0m                 \u001b[0my_prob\u001b[0m \u001b[0;34m=\u001b[0m \u001b[0mtrained_model\u001b[0m\u001b[0;34m.\u001b[0m\u001b[0mpredict\u001b[0m\u001b[0;34m(\u001b[0m\u001b[0mcurrentX\u001b[0m\u001b[0;34m)\u001b[0m\u001b[0;34m\u001b[0m\u001b[0m\n\u001b[1;32m    157\u001b[0m \t\ttrain_results = [r + [f(currentX, currentY, y_pred, y_prob)]\n\u001b[0;32m--> 158\u001b[0;31m \t\t\t\t\t\t\tfor r, f in zip(train_results, evaluation_functions)]\n\u001b[0m\u001b[1;32m    159\u001b[0m                 \u001b[0mprint\u001b[0m\u001b[0;34m(\u001b[0m\u001b[0mtrain_results\u001b[0m\u001b[0;34m)\u001b[0m\u001b[0;34m\u001b[0m\u001b[0m\n\u001b[1;32m    160\u001b[0m                 \u001b[0;31m#evaluate on test data\u001b[0m\u001b[0;34m\u001b[0m\u001b[0;34m\u001b[0m\u001b[0m\n",
      "\u001b[0;31mTypeError\u001b[0m: 'list' object is not callable"
     ]
    }
   ],
   "source": [
    "import reg_script"
   ]
  },
  {
   "cell_type": "code",
   "execution_count": null,
   "metadata": {
    "collapsed": true
   },
   "outputs": [],
   "source": []
  },
  {
   "cell_type": "code",
   "execution_count": null,
   "metadata": {
    "collapsed": true
   },
   "outputs": [],
   "source": []
  },
  {
   "cell_type": "code",
   "execution_count": null,
   "metadata": {
    "collapsed": true
   },
   "outputs": [],
   "source": []
  }
 ],
 "metadata": {
  "kernelspec": {
   "display_name": "Python 3",
   "language": "python",
   "name": "python3"
  },
  "language_info": {
   "codemirror_mode": {
    "name": "ipython",
    "version": 3
   },
   "file_extension": ".py",
   "mimetype": "text/x-python",
   "name": "python",
   "nbconvert_exporter": "python",
   "pygments_lexer": "ipython3",
   "version": "3.5.4"
  }
 },
 "nbformat": 4,
 "nbformat_minor": 2
}
